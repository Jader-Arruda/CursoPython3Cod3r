{
 "cells": [
  {
   "cell_type": "markdown",
   "metadata": {},
   "source": [
    "# primeiro programa"
   ]
  },
  {
   "cell_type": "code",
   "execution_count": 21,
   "metadata": {
    "scrolled": true
   },
   "outputs": [
    {
     "name": "stdout",
     "output_type": "stream",
     "text": [
      "Primeiro Programa\n",
      "3\n"
     ]
    }
   ],
   "source": [
    "print('Primeiro Programa')\n",
    "\n",
    "#help(print)\n",
    "\n",
    "print(10//3)"
   ]
  },
  {
   "cell_type": "markdown",
   "metadata": {},
   "source": [
    "# Tipos Básicos"
   ]
  },
  {
   "cell_type": "code",
   "execution_count": 19,
   "metadata": {},
   "outputs": [
    {
     "name": "stdout",
     "output_type": "stream",
     "text": [
      "Você é  muito legal muito legal muito legal\n"
     ]
    }
   ],
   "source": [
    "print('Você é ' + 3 * ' muito ' + 'legal')"
   ]
  },
  {
   "cell_type": "code",
   "execution_count": 22,
   "metadata": {},
   "outputs": [
    {
     "name": "stdout",
     "output_type": "stream",
     "text": [
      "3.3333333333333335\n"
     ]
    }
   ],
   "source": [
    "print(10/3)"
   ]
  },
  {
   "cell_type": "markdown",
   "metadata": {},
   "source": [
    "# Variáveis"
   ]
  },
  {
   "cell_type": "code",
   "execution_count": 23,
   "metadata": {},
   "outputs": [
    {
     "name": "stdout",
     "output_type": "stream",
     "text": [
      "15.2\n"
     ]
    }
   ],
   "source": [
    "a = 10\n",
    "b = 5.2\n",
    "print(a + b)"
   ]
  },
  {
   "cell_type": "markdown",
   "metadata": {},
   "source": [
    "# Operadores Aritméticos"
   ]
  },
  {
   "cell_type": "code",
   "execution_count": 30,
   "metadata": {},
   "outputs": [
    {
     "name": "stdout",
     "output_type": "stream",
     "text": [
      "5\n",
      "-3\n",
      "10.6\n",
      "3.1333333333333333\n",
      "3.0\n",
      "256\n",
      "1\n",
      "a12\n"
     ]
    }
   ],
   "source": [
    "print(2+3)\n",
    "print(4-7)\n",
    "print (2 * 5.3)\n",
    "print(9.4/3)\n",
    "print(9.4//3)\n",
    "print(2**8)\n",
    "print(10%3)\n",
    "\n",
    "a = '12'\n",
    "b = 'a'\n",
    "a,b= b,a\n",
    "print(a+b)\n"
   ]
  },
  {
   "cell_type": "code",
   "execution_count": 45,
   "metadata": {},
   "outputs": [
    {
     "name": "stdout",
     "output_type": "stream",
     "text": [
      "71.18\n"
     ]
    }
   ],
   "source": [
    "#minhas variaveis\n",
    "salario = 3450.45\n",
    "despesas = 2456.2\n",
    "\n",
    "print( round(despesas/salario *100,2))"
   ]
  },
  {
   "cell_type": "markdown",
   "metadata": {},
   "source": [
    "# Operadores Relacionais"
   ]
  },
  {
   "cell_type": "code",
   "execution_count": 50,
   "metadata": {},
   "outputs": [
    {
     "name": "stdout",
     "output_type": "stream",
     "text": [
      "256\n"
     ]
    }
   ],
   "source": [
    "a=2\n",
    "a **=8\n",
    "print(a)"
   ]
  },
  {
   "cell_type": "markdown",
   "metadata": {},
   "source": [
    "# Desafio Operadores lógicos"
   ]
  },
  {
   "cell_type": "code",
   "execution_count": 78,
   "metadata": {},
   "outputs": [
    {
     "name": "stdout",
     "output_type": "stream",
     "text": [
      "TV50=True TV32=False Sorvete =True Saudável=False\n"
     ]
    }
   ],
   "source": [
    "terca = True\n",
    "\n",
    "quinta = True\n",
    "\n",
    "\"\"\"\n",
    "if terca and quinta:\n",
    "    print('Comprar TV 50\\' + sorvete')\n",
    "\n",
    "    \n",
    "if terca or quinta:\n",
    "    print('Comprar TV 32\\' + sorvete')\n",
    "    \n",
    "if not terca or not quinta:\n",
    "   print('ficar com saude')\n",
    "\"\"\"\n",
    "tv_50 = terca and quinta\n",
    "sorvete = terca or quinta\n",
    "tv_32 = terca != quinta\n",
    "mais_saudavel = not sorvete\n",
    "\n",
    "print(\"TV50={} TV32={} Sorvete ={} Saudável={}\"\n",
    "     .format(tv_50,tv_32,sorvete,mais_saudavel))"
   ]
  },
  {
   "cell_type": "code",
   "execution_count": 85,
   "metadata": {},
   "outputs": [
    {
     "data": {
      "text/plain": [
       "'Hoje estou com as roupas molhadas.'"
      ]
     },
     "execution_count": 85,
     "metadata": {},
     "output_type": "execute_result"
    }
   ],
   "source": [
    "esta_chovendo = True\n",
    "'Hoje estou com as roupas '+('secas.','molhadas')[esta_chovendo]\n",
    "\n",
    "'Hoje estou com as roupas '+('molhadas.' if esta_chovendo else 'secas.')"
   ]
  },
  {
   "cell_type": "markdown",
   "metadata": {},
   "source": [
    "# Mais Operadores"
   ]
  },
  {
   "cell_type": "code",
   "execution_count": 89,
   "metadata": {
    "scrolled": true
   },
   "outputs": [
    {
     "data": {
      "text/plain": [
       "False"
      ]
     },
     "execution_count": 89,
     "metadata": {},
     "output_type": "execute_result"
    }
   ],
   "source": [
    "lista = [1,2,3,'Ana','Carla']\n",
    "2 in lista\n",
    "'Pedro' in lista\n",
    "'Ana' not in lista"
   ]
  },
  {
   "cell_type": "markdown",
   "metadata": {},
   "source": [
    "# Tipos Numéricos"
   ]
  },
  {
   "cell_type": "code",
   "execution_count": 138,
   "metadata": {},
   "outputs": [
    {
     "name": "stdout",
     "output_type": "stream",
     "text": [
      "Nome: Ana Idade :30\n"
     ]
    }
   ],
   "source": [
    "nome, idade = 'Ana',30\n",
    "print ('Nome: %s Idade :%d' % (nome, idade))"
   ]
  }
 ],
 "metadata": {
  "kernelspec": {
   "display_name": "Python 3",
   "language": "python",
   "name": "python3"
  },
  "language_info": {
   "codemirror_mode": {
    "name": "ipython",
    "version": 3
   },
   "file_extension": ".py",
   "mimetype": "text/x-python",
   "name": "python",
   "nbconvert_exporter": "python",
   "pygments_lexer": "ipython3",
   "version": "3.8.3"
  }
 },
 "nbformat": 4,
 "nbformat_minor": 4
}
